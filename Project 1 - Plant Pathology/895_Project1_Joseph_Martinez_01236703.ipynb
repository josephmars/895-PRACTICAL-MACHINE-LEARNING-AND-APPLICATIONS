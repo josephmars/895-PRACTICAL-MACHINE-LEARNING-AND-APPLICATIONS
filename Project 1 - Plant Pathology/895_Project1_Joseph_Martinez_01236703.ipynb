{
 "cells": [
  {
   "cell_type": "markdown",
   "metadata": {},
   "source": [
    "# 895 Practical Machine Learning and Applications - Project 1\n",
    "# Joseph Martínez Salcedo - 01236703"
   ]
  },
  {
   "cell_type": "code",
   "execution_count": 1,
   "metadata": {},
   "outputs": [],
   "source": [
    "import os\n",
    "\n",
    "import torch\n",
    "import torch.optim as optim\n",
    "\n",
    "import pandas as pd\n",
    "from PIL import Image\n",
    "import matplotlib.pyplot as plt"
   ]
  },
  {
   "cell_type": "code",
   "execution_count": 2,
   "metadata": {},
   "outputs": [
    {
     "data": {
      "text/plain": [
       "device(type='cuda')"
      ]
     },
     "execution_count": 2,
     "metadata": {},
     "output_type": "execute_result"
    }
   ],
   "source": [
    "# Set device (CPU or GPU)\n",
    "device = torch.device(\"cuda\" if torch.cuda.is_available() else \"cpu\")\n",
    "\n",
    "device"
   ]
  },
  {
   "cell_type": "code",
   "execution_count": 3,
   "metadata": {},
   "outputs": [
    {
     "name": "stdout",
     "output_type": "stream",
     "text": [
      "Number of files in the folder: 18632\n"
     ]
    }
   ],
   "source": [
    "from pathlib import Path\n",
    "\n",
    "def count_files_in_folder(folder_path):\n",
    "    folder = Path(folder_path)\n",
    "    return len([f for f in folder.iterdir() if f.is_file()])\n",
    "\n",
    "folder_path = './kaggle/train_images/'\n",
    "file_count = count_files_in_folder(folder_path)\n",
    "print(\"Number of files in the folder:\", file_count)"
   ]
  },
  {
   "cell_type": "code",
   "execution_count": 4,
   "metadata": {},
   "outputs": [
    {
     "name": "stdout",
     "output_type": "stream",
     "text": [
      "Number of images = 18632\n"
     ]
    },
    {
     "data": {
      "text/html": [
       "<div>\n",
       "<style scoped>\n",
       "    .dataframe tbody tr th:only-of-type {\n",
       "        vertical-align: middle;\n",
       "    }\n",
       "\n",
       "    .dataframe tbody tr th {\n",
       "        vertical-align: top;\n",
       "    }\n",
       "\n",
       "    .dataframe thead th {\n",
       "        text-align: right;\n",
       "    }\n",
       "</style>\n",
       "<table border=\"1\" class=\"dataframe\">\n",
       "  <thead>\n",
       "    <tr style=\"text-align: right;\">\n",
       "      <th></th>\n",
       "      <th>image</th>\n",
       "      <th>labels</th>\n",
       "    </tr>\n",
       "  </thead>\n",
       "  <tbody>\n",
       "    <tr>\n",
       "      <th>0</th>\n",
       "      <td>800113bb65efe69e.jpg</td>\n",
       "      <td>healthy</td>\n",
       "    </tr>\n",
       "    <tr>\n",
       "      <th>1</th>\n",
       "      <td>8002cb321f8bfcdf.jpg</td>\n",
       "      <td>scab frog_eye_leaf_spot complex</td>\n",
       "    </tr>\n",
       "    <tr>\n",
       "      <th>2</th>\n",
       "      <td>80070f7fb5e2ccaa.jpg</td>\n",
       "      <td>scab</td>\n",
       "    </tr>\n",
       "    <tr>\n",
       "      <th>3</th>\n",
       "      <td>80077517781fb94f.jpg</td>\n",
       "      <td>scab</td>\n",
       "    </tr>\n",
       "  </tbody>\n",
       "</table>\n",
       "</div>"
      ],
      "text/plain": [
       "                  image                           labels\n",
       "0  800113bb65efe69e.jpg                          healthy\n",
       "1  8002cb321f8bfcdf.jpg  scab frog_eye_leaf_spot complex\n",
       "2  80070f7fb5e2ccaa.jpg                             scab\n",
       "3  80077517781fb94f.jpg                             scab"
      ]
     },
     "execution_count": 4,
     "metadata": {},
     "output_type": "execute_result"
    }
   ],
   "source": [
    "# Import the images and labels from kaggle\n",
    "\n",
    "train_labels_path = './kaggle/train.csv'\n",
    "train_dir ='./kaggle/train_images'\n",
    "test_dir='./kaggle/test_images'\n",
    "\n",
    "train_labels=pd.read_csv(train_labels_path)\n",
    "\n",
    "\n",
    "print(f'Number of images = {len(train_labels)}')\n",
    "\n",
    "train_labels.head(4)"
   ]
  },
  {
   "cell_type": "code",
   "execution_count": 5,
   "metadata": {},
   "outputs": [
    {
     "data": {
      "text/plain": [
       "['scab',\n",
       " 'healthy',\n",
       " 'frog_eye_leaf_spot',\n",
       " 'rust',\n",
       " 'complex',\n",
       " 'powdery_mildew',\n",
       " 'scab frog_eye_leaf_spot',\n",
       " 'scab frog_eye_leaf_spot complex',\n",
       " 'frog_eye_leaf_spot complex',\n",
       " 'rust frog_eye_leaf_spot',\n",
       " 'rust complex',\n",
       " 'powdery_mildew complex']"
      ]
     },
     "execution_count": 5,
     "metadata": {},
     "output_type": "execute_result"
    }
   ],
   "source": [
    "class_list = list(train_labels[\"labels\"].value_counts().index)\n",
    "class_list"
   ]
  },
  {
   "cell_type": "code",
   "execution_count": 6,
   "metadata": {},
   "outputs": [
    {
     "data": {
      "text/plain": [
       "Text(0.5, 1.0, 'healthy')"
      ]
     },
     "execution_count": 6,
     "metadata": {},
     "output_type": "execute_result"
    }
   ],
   "source": [
    "# Plotting one image\n",
    "\n",
    "i=0\n",
    "\n",
    "name_img = train_labels.iloc[i, 0]\n",
    "label_name_img=train_labels.iloc[i,1]\n",
    "\n",
    "img = Image.open(os.path.join(train_dir, name_img[:-4]+\".jpg\"))\n",
    "plt.imshow(img)\n",
    "plt.title(label_name_img)"
   ]
  },
  {
   "cell_type": "code",
   "execution_count": 13,
   "metadata": {},
   "outputs": [],
   "source": [
    "# Resizing the images to 64x64\n",
    "\n",
    "from PIL import Image\n",
    "from torchvision.transforms import Compose, Resize, ToTensor,InterpolationMode, ColorJitter\n",
    "\n",
    "# Define data transformations\n",
    "resizing = Resize([64, 64],interpolation=InterpolationMode.BICUBIC)   #1. Resize the image to 64x64 pixels\n",
    "increase_saturation = ColorJitter(saturation=4)                         #2. Increase the saturation of the image\n",
    "\n",
    "\n",
    "transform = Compose([resizing,increase_saturation,ToTensor()])"
   ]
  },
  {
   "cell_type": "code",
   "execution_count": 14,
   "metadata": {},
   "outputs": [
    {
     "data": {
      "image/jpeg": "[encoded data removed]",
      "image/png": "[encoded data removed]",
      "text/plain": [
       "<PIL.Image.Image image mode=RGB size=64x64>"
      ]
     },
     "execution_count": 14,
     "metadata": {},
     "output_type": "execute_result"
    }
   ],
   "source": [
    "Image.fromarray(transform(img).mul(255).permute(1, 2, 0).byte().numpy())"
   ]
  },
  {
   "cell_type": "code",
   "execution_count": 15,
   "metadata": {},
   "outputs": [],
   "source": [
    "import pandas as pd\n",
    "from torch.utils.data import Dataset\n",
    "from PIL import Image\n",
    "from torchvision import transforms\n",
    "\n",
    "class CustomTextLabelDataset(Dataset):\n",
    "    def __init__(self, csv_path, image_dir, transform=None):\n",
    "        self.csv_path = csv_path\n",
    "        self.images_root = image_dir\n",
    "        self.transform = transform\n",
    "        self.data = self.load_data()\n",
    "\n",
    "    def load_data(self):\n",
    "        # Load data from the CSV file\n",
    "        df = pd.read_csv(self.csv_path)\n",
    "\n",
    "        # Combine filename and label information\n",
    "        data = [{'filename': row['image'], 'label': row['labels']} for _, row in df.iterrows()]\n",
    "\n",
    "        return data\n",
    "\n",
    "    def __len__(self):\n",
    "        return len(self.data)\n",
    "\n",
    "    def __getitem__(self, index):\n",
    "        entry = self.data[index]\n",
    "        image_path = os.path.join(self.images_root, entry['filename'])\n",
    "        text_label = entry['label']\n",
    "\n",
    "        # Load image\n",
    "        image = Image.open(image_path)\n",
    "\n",
    "        # Apply transformations\n",
    "        if self.transform:\n",
    "            image = self.transform(image)\n",
    "\n",
    "        return image, text_label"
   ]
  },
  {
   "cell_type": "code",
   "execution_count": 16,
   "metadata": {},
   "outputs": [
    {
     "data": {
      "text/plain": [
       "'healthy'"
      ]
     },
     "execution_count": 16,
     "metadata": {},
     "output_type": "execute_result"
    }
   ],
   "source": [
    "# Specify the path to CSV file and images directory\n",
    "\n",
    "## dataset:\n",
    "full_dataset = CustomTextLabelDataset(csv_path=train_labels_path, image_dir=train_dir, transform=transform)\n",
    "#access label\n",
    "full_dataset[0][1]"
   ]
  },
  {
   "cell_type": "code",
   "execution_count": 39,
   "metadata": {},
   "outputs": [
    {
     "data": {
      "text/plain": [
       "CNN_model(\n",
       "  (conv1): Conv2d(3, 16, kernel_size=(3, 3), stride=(1, 1), padding=(1, 1))\n",
       "  (relu1): ReLU()\n",
       "  (maxpool1): MaxPool2d(kernel_size=2, stride=2, padding=0, dilation=1, ceil_mode=False)\n",
       "  (conv2): Conv2d(16, 32, kernel_size=(3, 3), stride=(1, 1), padding=(1, 1))\n",
       "  (relu2): ReLU()\n",
       "  (maxpool2): MaxPool2d(kernel_size=2, stride=2, padding=0, dilation=1, ceil_mode=False)\n",
       "  (conv3): Conv2d(32, 64, kernel_size=(3, 3), stride=(1, 1), padding=(1, 1))\n",
       "  (relu3): ReLU()\n",
       "  (maxpool3): MaxPool2d(kernel_size=2, stride=2, padding=0, dilation=1, ceil_mode=False)\n",
       "  (fc): Linear(in_features=4096, out_features=12, bias=True)\n",
       ")"
      ]
     },
     "execution_count": 39,
     "metadata": {},
     "output_type": "execute_result"
    }
   ],
   "source": [
    "import torch\n",
    "import torch.nn as nn\n",
    "\n",
    "class CNN_model(nn.Module):\n",
    "    def __init__(self, num_classes):\n",
    "        super(CNN_model, self).__init__()\n",
    "\n",
    "        #### 1st Convolutional Layer\n",
    "        self.conv1 = nn.Conv2d(3, 16, kernel_size=3, stride=1, padding=1)\n",
    "        # ReLU activation\n",
    "        self.relu1 = nn.ReLU()\n",
    "        # Max-pooling layer\n",
    "        self.maxpool1 = nn.MaxPool2d(kernel_size=2, stride=2)\n",
    "\n",
    "        #### 2nd Convolutional Layer\n",
    "        self.conv2 = nn.Conv2d(16, 32, kernel_size=3, stride=1, padding=1)\n",
    "        # ReLU activation\n",
    "        self.relu2 = nn.ReLU()\n",
    "        # Max-pooling layer\n",
    "        self.maxpool2 = nn.MaxPool2d(kernel_size=2, stride=2)\n",
    "\n",
    "        #### 3rd Convolutional Layer\n",
    "        self.conv3 = nn.Conv2d(32, 64, kernel_size=3, stride=1, padding=1)\n",
    "        # ReLU activation\n",
    "        self.relu3 = nn.ReLU()\n",
    "        # Max-pooling layer\n",
    "        self.maxpool3 = nn.MaxPool2d(kernel_size=2, stride=2)\n",
    "\n",
    "        ### Fully Connected Layer\n",
    "        self.fc = nn.Linear(64 * 32 * 2, num_classes)\n",
    "\n",
    "    def forward(self, x):\n",
    "        x = self.maxpool1(self.relu1(self.conv1(x)))\n",
    "        x = self.maxpool2(self.relu2(self.conv2(x)))\n",
    "        x = self.maxpool3(self.relu3(self.conv3(x)))\n",
    "        x = x.view(x.size(0), -1)\n",
    "        x = self.fc(x)\n",
    "        return x\n",
    "\n",
    "\n",
    "num_classes = 12  # we have 12 classes here\n",
    "model = CNN_model(num_classes)\n",
    "\n",
    "model"
   ]
  },
  {
   "cell_type": "code",
   "execution_count": 40,
   "metadata": {},
   "outputs": [],
   "source": [
    "import torch.nn.functional as F\n",
    "\n",
    "class FocalLoss(nn.Module):\n",
    "    def __init__(self, alpha=None, gamma=2, reduction='mean'):\n",
    "        super(FocalLoss, self).__init__()\n",
    "        self.alpha = alpha\n",
    "        self.gamma = gamma\n",
    "        self.reduction = reduction\n",
    "\n",
    "    def forward(self, inputs, targets):\n",
    "        ce_loss = F.cross_entropy(inputs, targets, reduction='none')\n",
    "        \n",
    "        #focul loss \n",
    "        pt = torch.exp(-ce_loss)\n",
    "        focal_loss = self.alpha*(1 - pt) ** self.gamma * ce_loss\n",
    "        \n",
    "        #if self.alpha is not None:\n",
    "            #alpha_factor = self.alpha[targets]\n",
    "            #focal_loss = focal_loss * alpha_factor\n",
    "\n",
    "\n",
    "        # Apply reduction\n",
    "        if self.reduction == 'mean':\n",
    "            return focal_loss.mean()\n",
    "        elif self.reduction == 'sum':\n",
    "            return focal_loss.sum()\n",
    "        elif self.reduction == 'none':\n",
    "            return focal_loss\n",
    "        else:\n",
    "            raise ValueError(\"Invalid reduction option. Use 'mean', 'sum', or 'none'.\")\n"
   ]
  },
  {
   "cell_type": "markdown",
   "metadata": {},
   "source": [
    "Since the labels are given in text format I made a mapping to turn text into numerics and vice-versa\n",
    "*********************"
   ]
  },
  {
   "cell_type": "code",
   "execution_count": 41,
   "metadata": {},
   "outputs": [],
   "source": [
    "# Create a mapping between text labels and numerical indices\n",
    "unique_text_labels = class_list\n",
    "label_to_index = {label: index for index, label in enumerate(unique_text_labels)}\n",
    "index_to_label = {index: label for label, index in label_to_index.items()}\n"
   ]
  },
  {
   "cell_type": "markdown",
   "metadata": {},
   "source": [
    "TRAINING ON train_images:\n",
    "*************************************************************************************************\n",
    "Used Adam optimizer with learning rate 0.01.\n",
    "\n",
    "\n",
    "the model is saved locally at 'cnn_model.pth'"
   ]
  },
  {
   "cell_type": "code",
   "execution_count": 42,
   "metadata": {},
   "outputs": [
    {
     "name": "stdout",
     "output_type": "stream",
     "text": [
      "1490\n",
      "1\n",
      "Epoch 1/4, Train Set Loss: 2.0683, Validation Set Accuracy: 0.2823\n",
      "Epoch 2/4, Train Set Loss: 1.8902, Validation Set Accuracy: 0.2715\n",
      "Epoch 3/4, Train Set Loss: 1.6784, Validation Set Accuracy: 0.2688\n",
      "Epoch 4/4, Train Set Loss: 1.4862, Validation Set Accuracy: 0.2581\n"
     ]
    }
   ],
   "source": [
    "from torch.utils.data import DataLoader, random_split\n",
    "#from torch.optim.lr_scheduler import StepLR\n",
    "\n",
    "# Define the focal loss function and optimizer:\n",
    "criterion = FocalLoss(gamma=2, alpha=1)\n",
    "optimizer = optim.Adam(model.parameters(), lr=0.001)\n",
    "#step_scheduler = StepLR(optimizer, step_size=30, gamma=0.1)\n",
    "\n",
    "# Wrap model and optimizer with XLA\n",
    "#model, optimizer = xm.initialize_model(model, optimizer, opt_level=\"O2\")\n",
    "\n",
    "\n",
    "# Split the dataset into training and validation sets: 80:20\n",
    "train_size = int(0.08 * len(full_dataset))\n",
    "val_size = int(0.02 * len(full_dataset))\n",
    "not_used_size = len(full_dataset) - train_size - val_size\n",
    "train_dataset, val_dataset, not_used = random_split(full_dataset, [train_size, val_size, not_used_size])\n",
    "print(len(train_dataset))\n",
    "\n",
    "# Create data loaders for training and validation\n",
    "batch_size = 2048\n",
    "train_loader = DataLoader(train_dataset, batch_size=batch_size, shuffle=True)\n",
    "val_loader = DataLoader(val_dataset, batch_size=batch_size, shuffle=False)\n",
    "print(len(train_loader))\n",
    "\n",
    "\n",
    "# Use GPU for model\n",
    "model.to(device)\n",
    "\n",
    "\n",
    "epochs = 4\n",
    "\n",
    "for epoch in range(epochs):\n",
    "    \n",
    "    ## Training loop:\n",
    "    \n",
    "    model.train()  # Set the model to training mode\n",
    "    \n",
    "    #run=0\n",
    "    for inputs, text_labels in train_loader:\n",
    "        inputs, text_labels = inputs.to(device), text_labels\n",
    "        \n",
    "        #print('input',inputs)\n",
    "        #print('text_labels',text_labels)\n",
    "        #print(inputs.shape)\n",
    "        \n",
    "        # Convert text labels to numerical indices using the mapping\n",
    "        numerical_labels = [label_to_index[label] for label in text_labels]\n",
    "        #print((numerical_labels))\n",
    "        \n",
    "        optimizer.zero_grad()  # Zero the gradients\n",
    "        outputs = model(inputs)  # Forward pass\n",
    "        #print(outputs.shape)\n",
    "        #print(torch.tensor(numerical_labels).shape)\n",
    "        \n",
    "        loss=criterion(outputs, torch.tensor(numerical_labels).to(device))  # Focal Loss\n",
    "        \n",
    "        \n",
    "        loss.backward()  # Backward pass\n",
    "        optimizer.step()  # Update the weights\n",
    "        \n",
    "        #print(f'{run}run done')\n",
    "        #run=run+1\n",
    "        \n",
    "    #print(f'train loss for {epoch+1} epoch = {loss:0.3f} ')\n",
    "    \n",
    "    ###Validation loop:\n",
    "    \n",
    "    model.eval()  # Set to evaluation mode\n",
    "    correct = 0\n",
    "    total = 0\n",
    "    \n",
    "    with torch.no_grad():\n",
    "        for inputs, text_labels in val_loader:\n",
    "            inputs, text_labels = inputs.to(device), text_labels\n",
    "            \n",
    "            \n",
    "            numerical_labels = [label_to_index[label] for label in text_labels]\n",
    "            numerical_labels=torch.tensor(numerical_labels).to(device)\n",
    "            \n",
    "            outputs = model(inputs)\n",
    "            _, predicted = torch.max(outputs.data, 1)\n",
    "            total += len(numerical_labels)\n",
    "            correct += (predicted == numerical_labels).sum().item()\n",
    "            \n",
    "            #step_scheduler.step()\n",
    "    \n",
    "    accuracy = correct / total\n",
    "    print(f'Epoch {epoch+1}/{epochs}, Train Set Loss: {loss.item():.4f}, Validation Set Accuracy: {accuracy:.4f}')\n",
    "\n",
    "\n"
   ]
  },
  {
   "cell_type": "code",
   "execution_count": 43,
   "metadata": {},
   "outputs": [],
   "source": [
    "## Save the trained model:\n",
    "torch.save(model.state_dict(), './kaggle/cnn_model.pth')\n"
   ]
  }
 ],
 "metadata": {
  "kernelspec": {
   "display_name": "default-tensorflow-gpu-2.10.0",
   "language": "python",
   "name": "python3"
  },
  "language_info": {
   "codemirror_mode": {
    "name": "ipython",
    "version": 3
   },
   "file_extension": ".py",
   "mimetype": "text/x-python",
   "name": "python",
   "nbconvert_exporter": "python",
   "pygments_lexer": "ipython3",
   "version": "3.10.11"
  },
  "vscode": {
   "interpreter": {
    "hash": "7d6e37093efaa95eb46af3a0496c45ea70f0fe0c24c6fc6929b56d85e591d851"
   }
  }
 },
 "nbformat": 4,
 "nbformat_minor": 2
}
